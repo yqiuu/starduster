{
 "cells": [
  {
   "cell_type": "markdown",
   "metadata": {},
   "source": [
    "# Generating SEDs for a semi-analytic model"
   ]
  },
  {
   "cell_type": "code",
   "execution_count": 1,
   "metadata": {},
   "outputs": [],
   "source": [
    "import numpy as np\n",
    "import torch\n",
    "import starduster"
   ]
  },
  {
   "cell_type": "markdown",
   "metadata": {},
   "source": [
    "In this tutorial, we generate some multi-wavelength SEDs for a semi-analytic model. We assume that the semi-analytic model can provide the following properties. For this example, we sample these properties randomly."
   ]
  },
  {
   "cell_type": "code",
   "execution_count": 2,
   "metadata": {},
   "outputs": [],
   "source": [
    "rstate = np.random.RandomState(111)\n",
    "\n",
    "n_gal = 5\n",
    "# Inlincation angel [deg]\n",
    "theta = rstate.uniform(0, 90, n_gal)\n",
    "# Dust mass [M_sol]\n",
    "m_dust = 10**rstate.uniform(6, 8, n_gal)\n",
    "# Dust disk radius [kpc]\n",
    "r_dust = 10**rstate.uniform(-2, 2.5, n_gal) \n",
    "# Stellar disk radius [kpc]\n",
    "r_disk = 10**rstate.uniform(-2, 2.5, n_gal)\n",
    "# Bulge radius [kpc]\n",
    "r_bulge = 10**rstate.uniform(-0.5, 1.5, n_gal)"
   ]
  },
  {
   "cell_type": "markdown",
   "metadata": {},
   "source": [
    "We also need the star formation history of the stellar disk and bulge, which should have the following form."
   ]
  },
  {
   "cell_type": "code",
   "execution_count": 3,
   "metadata": {},
   "outputs": [],
   "source": [
    "# Array size for the star formation history\n",
    "n_sfh = 10\n",
    "# Stellar age bins [yr]\n",
    "age_bins = np.logspace(5.8, 10.5, n_sfh + 1)\n",
    "# Mass in each stellar age bin [M_sol]\n",
    "sfh_mass_disk = 10**rstate.uniform(2, 8, [n_gal, n_sfh])\n",
    "sfh_mass_bulge = 10**rstate.uniform(2, 8, [n_gal, n_sfh])\n",
    "# Metal mass in each stellar age bin [M_sol]\n",
    "sfh_metal_mass_disk = 10**rstate.uniform(-2, 4, [n_gal, n_sfh])\n",
    "sfh_metal_mass_bulge = 10**rstate.uniform(-2, 4, [n_gal, n_sfh])"
   ]
  },
  {
   "cell_type": "code",
   "execution_count": 4,
   "metadata": {},
   "outputs": [],
   "source": [
    "sed_model = starduster.MultiwavelengthSED.from_builtin()\n",
    "converter = starduster.SemiAnalyticConventer(sed_model, age_bins)"
   ]
  },
  {
   "cell_type": "markdown",
   "metadata": {},
   "source": [
    "We can then use ``SemiAnalyticConventer`` to convert the properties to format that can be accepted SED model. The code distributes the mass into the built-in age bins according the time fraction, and linearly intepolates the metallicity to the grid."
   ]
  },
  {
   "cell_type": "code",
   "execution_count": 5,
   "metadata": {},
   "outputs": [],
   "source": [
    "sed_model = starduster.MultiwavelengthSED.from_builtin()\n",
    "converter = starduster.SemiAnalyticConventer(sed_model, age_bins)\n",
    "gp, sfh_disk, sfh_bulge = converter(\n",
    "    theta=theta,\n",
    "    m_dust=m_dust,\n",
    "    r_dust=r_dust,\n",
    "    r_disk=r_disk,\n",
    "    r_bulge=r_bulge,\n",
    "    sfh_mass_disk=sfh_mass_disk,\n",
    "    sfh_metal_mass_disk=sfh_metal_mass_disk,\n",
    "    sfh_mass_bulge=sfh_mass_bulge,\n",
    "    sfh_metal_mass_bulge=sfh_metal_mass_bulge\n",
    ")\n",
    "with torch.no_grad():\n",
    "    spectra = sed_model(gp, sfh_disk, sfh_bulge)"
   ]
  }
 ],
 "metadata": {
  "kernelspec": {
   "display_name": "Python 3",
   "language": "python",
   "name": "python3"
  },
  "language_info": {
   "codemirror_mode": {
    "name": "ipython",
    "version": 3
   },
   "file_extension": ".py",
   "mimetype": "text/x-python",
   "name": "python",
   "nbconvert_exporter": "python",
   "pygments_lexer": "ipython3",
   "version": "3.7.0"
  }
 },
 "nbformat": 4,
 "nbformat_minor": 2
}
